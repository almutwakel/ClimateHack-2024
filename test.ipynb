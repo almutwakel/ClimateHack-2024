{
 "cells": [
  {
   "cell_type": "code",
   "execution_count": 1,
   "metadata": {},
   "outputs": [
    {
     "name": "stdout",
     "output_type": "stream",
     "text": [
      "cuda\n"
     ]
    }
   ],
   "source": [
    "import torch\n",
    "import torch.nn as nn\n",
    "import torch.optim as optim\n",
    "import argparse\n",
    "import zarr\n",
    "from torchinfo import summary\n",
    "\n",
    "import sys\n",
    "# sys.path.insert(0, '/home/paperspace/Al/ClimateHack-2024/code/')\n",
    "\n",
    "\n",
    "from models.multimodal import MultimodalModel\n",
    "from models.compressor import CompressorModel\n",
    "from models.attention import AttentionModel\n",
    "from dataloader import ChDataModule\n",
    "from train import train_epoch, eval_epoch, train_loop\n",
    "\n",
    "device = torch.device(\"cuda\" if torch.cuda.is_available() else \"cpu\")\n",
    "print(device)"
   ]
  },
  {
   "cell_type": "code",
   "execution_count": 2,
   "metadata": {},
   "outputs": [],
   "source": [
    "argparser = argparse.ArgumentParser()\n",
    "argparser.add_argument(\"--model\", type=str, default=\"multimodal\")\n",
    "argparser.add_argument(\"--name\", type=str, default=\"0\")\n",
    "argparser.add_argument(\"--pretrain\", type=bool, default=False)\n",
    "argparser.add_argument(\"--use_hrv\", type=bool, default=True)\n",
    "argparser.add_argument(\"--use_weather\", type=bool, default=False)\n",
    "argparser.add_argument(\"--use_metadata\", type=bool, default=True)\n",
    "argparser.add_argument(\"--use_pv\", type=bool, default=True)\n",
    "argparser.add_argument(\"--epochs\", type=int, default=80)\n",
    "argparser.add_argument(\"--add_epochs\", type=int, default=0)\n",
    "argparser.add_argument(\"--batch_size\", type=int, default=32)\n",
    "argparser.add_argument(\"--lr\", type=float, default=1e-3)\n",
    "argparser.add_argument(\"--weight_decay\", type=float, default=0.00)\n",
    "argparser.add_argument(\"--dropout\", type=float, default=0.0)\n",
    "argparser.add_argument(\"--batchnorm\", type=bool, default=True)\n",
    "argparser.add_argument(\"--checkpoint\", type=str, default=None)\n",
    "argparser.add_argument(\"--data_dir\", type=str, default=\"data\")\n",
    "argparser.add_argument(\"--dataloader_cfg\", type=dict, default={\"num_workers\": 8, \"batch_size\": 8, \"pin_memory\": True, \"persistent_workers\": True})\n",
    "argparser.add_argument(\"--datamodule_cfg\", type=dict, default={\"val_split\": 0.1, \"cache_dir\": \"data/cache/\"})\n",
    "argparser.add_argument(\"--freeze\", type=bool, default=False)\n",
    "argparser.add_argument(\"--train\", type=bool, default=True)\n",
    "argparser.add_argument(\"-f\", type=str, default=\"\")\n",
    "\n",
    "args = argparser.parse_args()"
   ]
  },
  {
   "cell_type": "code",
   "execution_count": 3,
   "metadata": {},
   "outputs": [
    {
     "data": {
      "application/vnd.jupyter.widget-view+json": {
       "model_id": "11abfb549c0648f8ad43abb2e0729b97",
       "version_major": 2,
       "version_minor": 0
      },
      "text/plain": [
       "Fetching 25 files:   0%|          | 0/25 [00:00<?, ?it/s]"
      ]
     },
     "metadata": {},
     "output_type": "display_data"
    }
   ],
   "source": [
    "epochs = args.epochs\n",
    "\n",
    "datamodule = ChDataModule(args.datamodule_cfg, args.dataloader_cfg)\n",
    "datamodule.setup('fit')\n",
    "train_loader = datamodule.train_dataloader()\n",
    "val_loader = datamodule.val_dataloader()\n",
    "criterion = nn.L1Loss()"
   ]
  },
  {
   "cell_type": "code",
   "execution_count": 4,
   "metadata": {},
   "outputs": [
    {
     "name": "stdout",
     "output_type": "stream",
     "text": [
      "use_hrv set to True\n",
      "use_hrv set to True\n"
     ]
    }
   ],
   "source": [
    "if not args.pretrain:\n",
    "    datamodule.toggle_train_hrv()\n",
    "    datamodule.toggle_val_hrv()"
   ]
  },
  {
   "cell_type": "code",
   "execution_count": 5,
   "metadata": {},
   "outputs": [
    {
     "data": {
      "text/plain": [
       "MultimodalModel(\n",
       "  (conv1): Conv2d(12, 24, kernel_size=(3, 3), stride=(1, 1))\n",
       "  (conv2): Conv2d(24, 48, kernel_size=(3, 3), stride=(1, 1))\n",
       "  (conv3): Conv2d(48, 96, kernel_size=(3, 3), stride=(1, 1))\n",
       "  (conv4): Conv2d(96, 192, kernel_size=(3, 3), stride=(1, 1))\n",
       "  (conv5): Conv2d(192, 96, kernel_size=(3, 3), stride=(1, 1))\n",
       "  (pool): MaxPool2d(kernel_size=2, stride=2, padding=0, dilation=1, ceil_mode=False)\n",
       "  (flatten): Flatten(start_dim=1, end_dim=-1)\n",
       "  (relu): ReLU()\n",
       "  (dropout): Dropout(p=0.0, inplace=False)\n",
       "  (sigmoid): Sigmoid()\n",
       "  (batchnorm): BatchNorm1d(512, eps=1e-05, momentum=0.1, affine=True, track_running_stats=True)\n",
       "  (linear0): Linear(in_features=19, out_features=256, bias=True)\n",
       "  (linear1): Linear(in_features=256, out_features=512, bias=True)\n",
       "  (linear2): Linear(in_features=512, out_features=1024, bias=True)\n",
       "  (linear3): Linear(in_features=1024, out_features=512, bias=True)\n",
       "  (linear4): Linear(in_features=512, out_features=48, bias=True)\n",
       "  (linear5): Linear(in_features=384, out_features=1024, bias=True)\n",
       "  (linear6): Linear(in_features=1024, out_features=512, bias=True)\n",
       "  (linear7): Linear(in_features=512, out_features=48, bias=True)\n",
       "  (linear_out): Linear(in_features=96, out_features=48, bias=True)\n",
       "  (tabular_sequence): Sequential(\n",
       "    (0): Linear(in_features=19, out_features=256, bias=True)\n",
       "    (1): ReLU()\n",
       "    (2): Linear(in_features=256, out_features=512, bias=True)\n",
       "    (3): ReLU()\n",
       "    (4): Linear(in_features=512, out_features=1024, bias=True)\n",
       "    (5): ReLU()\n",
       "    (6): Linear(in_features=1024, out_features=512, bias=True)\n",
       "    (7): ReLU()\n",
       "    (8): Linear(in_features=512, out_features=48, bias=True)\n",
       "    (9): Sigmoid()\n",
       "  )\n",
       "  (conv_sequence): Sequential(\n",
       "    (0): Conv2d(12, 24, kernel_size=(3, 3), stride=(1, 1))\n",
       "    (1): MaxPool2d(kernel_size=2, stride=2, padding=0, dilation=1, ceil_mode=False)\n",
       "    (2): ReLU()\n",
       "    (3): Conv2d(24, 48, kernel_size=(3, 3), stride=(1, 1))\n",
       "    (4): MaxPool2d(kernel_size=2, stride=2, padding=0, dilation=1, ceil_mode=False)\n",
       "    (5): ReLU()\n",
       "    (6): Conv2d(48, 96, kernel_size=(3, 3), stride=(1, 1))\n",
       "    (7): MaxPool2d(kernel_size=2, stride=2, padding=0, dilation=1, ceil_mode=False)\n",
       "    (8): ReLU()\n",
       "    (9): Conv2d(96, 192, kernel_size=(3, 3), stride=(1, 1))\n",
       "    (10): MaxPool2d(kernel_size=2, stride=2, padding=0, dilation=1, ceil_mode=False)\n",
       "    (11): ReLU()\n",
       "    (12): Conv2d(192, 96, kernel_size=(3, 3), stride=(1, 1))\n",
       "    (13): MaxPool2d(kernel_size=2, stride=2, padding=0, dilation=1, ceil_mode=False)\n",
       "    (14): Flatten(start_dim=1, end_dim=-1)\n",
       "  )\n",
       "  (conv_postprocess): Sequential(\n",
       "    (0): Linear(in_features=384, out_features=1024, bias=True)\n",
       "    (1): ReLU()\n",
       "    (2): Linear(in_features=1024, out_features=512, bias=True)\n",
       "    (3): ReLU()\n",
       "    (4): Linear(in_features=512, out_features=48, bias=True)\n",
       "    (5): Sigmoid()\n",
       "  )\n",
       "  (combiner): Sequential(\n",
       "    (0): Linear(in_features=96, out_features=48, bias=True)\n",
       "    (1): Sigmoid()\n",
       "  )\n",
       ")"
      ]
     },
     "execution_count": 5,
     "metadata": {},
     "output_type": "execute_result"
    }
   ],
   "source": [
    "if args.model == \"multimodal\":\n",
    "    model = MultimodalModel(args)\n",
    "    summary(model)\n",
    "\n",
    "elif args.model == \"compressor\":\n",
    "    model = CompressorModel(args)\n",
    "    summary(model)\n",
    "\n",
    "elif args.model == \"attention\":\n",
    "    model = AttentionModel(args)\n",
    "    summary(model)\n",
    "\n",
    "else:\n",
    "    raise ValueError(\"Invalid model\")\n",
    "\n",
    "model.to(device)"
   ]
  },
  {
   "cell_type": "code",
   "execution_count": 6,
   "metadata": {},
   "outputs": [
    {
     "name": "stdout",
     "output_type": "stream",
     "text": [
      "Epoch 1\n",
      "Train Loss: 0.19668770325027804\n"
     ]
    },
    {
     "ename": "NameError",
     "evalue": "name 'np' is not defined",
     "output_type": "error",
     "traceback": [
      "\u001b[0;31m---------------------------------------------------------------------------\u001b[0m",
      "\u001b[0;31mNameError\u001b[0m                                 Traceback (most recent call last)",
      "Cell \u001b[0;32mIn[6], line 8\u001b[0m\n\u001b[1;32m      5\u001b[0m     model\u001b[38;5;241m.\u001b[39mfreeze_pretrain()\n\u001b[1;32m      7\u001b[0m \u001b[38;5;28;01mif\u001b[39;00m args\u001b[38;5;241m.\u001b[39mtrain:\n\u001b[0;32m----> 8\u001b[0m     \u001b[43mtrain_loop\u001b[49m\u001b[43m(\u001b[49m\u001b[43mmodel\u001b[49m\u001b[43m,\u001b[49m\u001b[43m \u001b[49m\u001b[43margs\u001b[49m\u001b[43m,\u001b[49m\u001b[43m \u001b[49m\u001b[43mtrain_loader\u001b[49m\u001b[43m,\u001b[49m\u001b[43m \u001b[49m\u001b[43mval_loader\u001b[49m\u001b[43m)\u001b[49m\n\u001b[1;32m     10\u001b[0m eval_epoch(model, args, criterion, val_loader)\n",
      "File \u001b[0;32m~/Al/ClimateHack-2024/code/train.py:98\u001b[0m, in \u001b[0;36mtrain_loop\u001b[0;34m(model, args, train_loader, val_loader)\u001b[0m\n\u001b[1;32m     96\u001b[0m \u001b[38;5;28mprint\u001b[39m(\u001b[38;5;124m\"\u001b[39m\u001b[38;5;124mEpoch\u001b[39m\u001b[38;5;124m\"\u001b[39m, epoch \u001b[38;5;241m+\u001b[39m \u001b[38;5;241m1\u001b[39m)\n\u001b[1;32m     97\u001b[0m train_loss \u001b[38;5;241m=\u001b[39m train_epoch(model, args, optimiser, criterion, train_loader)\n\u001b[0;32m---> 98\u001b[0m val_loss \u001b[38;5;241m=\u001b[39m \u001b[43meval_epoch\u001b[49m\u001b[43m(\u001b[49m\u001b[43mmodel\u001b[49m\u001b[43m,\u001b[49m\u001b[43m \u001b[49m\u001b[43margs\u001b[49m\u001b[43m,\u001b[49m\u001b[43m \u001b[49m\u001b[43mcriterion\u001b[49m\u001b[43m,\u001b[49m\u001b[43m \u001b[49m\u001b[43mval_loader\u001b[49m\u001b[43m)\u001b[49m\n\u001b[1;32m    100\u001b[0m t1 \u001b[38;5;241m=\u001b[39m time\u001b[38;5;241m.\u001b[39mtime()\n\u001b[1;32m    101\u001b[0m \u001b[38;5;28mprint\u001b[39m(\u001b[38;5;124m\"\u001b[39m\u001b[38;5;124mTrain Loss:\u001b[39m\u001b[38;5;124m\"\u001b[39m, train_loss, \u001b[38;5;124m\"\u001b[39m\u001b[38;5;124mVal Loss:\u001b[39m\u001b[38;5;124m\"\u001b[39m, val_loss, \u001b[38;5;124m\"\u001b[39m\u001b[38;5;124mLR:\u001b[39m\u001b[38;5;124m\"\u001b[39m, optimiser\u001b[38;5;241m.\u001b[39mparam_groups[\u001b[38;5;241m0\u001b[39m][\u001b[38;5;124m'\u001b[39m\u001b[38;5;124mlr\u001b[39m\u001b[38;5;124m'\u001b[39m], \u001b[38;5;124m\"\u001b[39m\u001b[38;5;124mTime:\u001b[39m\u001b[38;5;124m\"\u001b[39m, t1\u001b[38;5;241m-\u001b[39mt0)\n",
      "File \u001b[0;32m~/Al/ClimateHack-2024/code/train.py:69\u001b[0m, in \u001b[0;36meval_epoch\u001b[0;34m(model, args, criterion, val_loader)\u001b[0m\n\u001b[1;32m     66\u001b[0m \u001b[38;5;28;01melse\u001b[39;00m:\n\u001b[1;32m     67\u001b[0m     (pv_features, latitude, longitude, day_of_year, time_of_day,\n\u001b[1;32m     68\u001b[0m       orientation, tilt, kwp, hrv_data, pv_targets) \u001b[38;5;241m=\u001b[39m d\n\u001b[0;32m---> 69\u001b[0m     weather_data \u001b[38;5;241m=\u001b[39m \u001b[43mnp\u001b[49m\u001b[38;5;241m.\u001b[39marray([])\n\u001b[1;32m     71\u001b[0m metadata_features \u001b[38;5;241m=\u001b[39m torch\u001b[38;5;241m.\u001b[39mstack((latitude, longitude, day_of_year, time_of_day, orientation, tilt, kwp), axis\u001b[38;5;241m=\u001b[39m\u001b[38;5;241m1\u001b[39m)\n\u001b[1;32m     72\u001b[0m predictions \u001b[38;5;241m=\u001b[39m model(\n\u001b[1;32m     73\u001b[0m     pv_features\u001b[38;5;241m.\u001b[39mto(device, dtype\u001b[38;5;241m=\u001b[39mtorch\u001b[38;5;241m.\u001b[39mfloat),\n\u001b[1;32m     74\u001b[0m     hrv_data\u001b[38;5;241m.\u001b[39mto(device, dtype\u001b[38;5;241m=\u001b[39mtorch\u001b[38;5;241m.\u001b[39mfloat),\n\u001b[1;32m     75\u001b[0m     weather_data\u001b[38;5;241m.\u001b[39mto(device, dtype\u001b[38;5;241m=\u001b[39mtorch\u001b[38;5;241m.\u001b[39mfloat),\n\u001b[1;32m     76\u001b[0m     metadata_features\u001b[38;5;241m.\u001b[39mto(device, dtype\u001b[38;5;241m=\u001b[39mtorch\u001b[38;5;241m.\u001b[39mfloat)\n\u001b[1;32m     77\u001b[0m )\n",
      "\u001b[0;31mNameError\u001b[0m: name 'np' is not defined"
     ]
    }
   ],
   "source": [
    "if args.checkpoint is not None:\n",
    "    model.load_state_dict(torch.load(args.checkpoint))\n",
    "\n",
    "if args.freeze:\n",
    "    model.freeze_pretrain()\n",
    "\n",
    "if args.train:\n",
    "    train_loop(model, args, train_loader, val_loader)\n",
    "\n",
    "eval_epoch(model, args, criterion, val_loader)\n"
   ]
  },
  {
   "cell_type": "code",
   "execution_count": null,
   "metadata": {},
   "outputs": [],
   "source": []
  }
 ],
 "metadata": {
  "kernelspec": {
   "display_name": "chack",
   "language": "python",
   "name": "chack"
  },
  "language_info": {
   "codemirror_mode": {
    "name": "ipython",
    "version": 3
   },
   "file_extension": ".py",
   "mimetype": "text/x-python",
   "name": "python",
   "nbconvert_exporter": "python",
   "pygments_lexer": "ipython3",
   "version": "3.8.10"
  }
 },
 "nbformat": 4,
 "nbformat_minor": 4
}
