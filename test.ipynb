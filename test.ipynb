{
 "cells": [
  {
   "cell_type": "code",
   "execution_count": null,
   "metadata": {},
   "outputs": [],
   "source": [
    "import torch\n",
    "import torch.nn as nn\n",
    "import torch.optim as optim\n",
    "import argparse\n",
    "from torchinfo import summary\n",
    "\n",
    "from code.models.multimodal import MultimodalModel\n",
    "from code.models.compressor import CompressorModel\n",
    "from code.models.attention import AttentionModel\n",
    "from code.dataloader import ChDataModule\n",
    "from code.train import train_epoch, eval_epoch, train_loop"
   ]
  }
 ],
 "metadata": {
  "language_info": {
   "name": "python"
  }
 },
 "nbformat": 4,
 "nbformat_minor": 2
}
